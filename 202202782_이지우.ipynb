{
  "nbformat": 4,
  "nbformat_minor": 0,
  "metadata": {
    "colab": {
      "provenance": [],
      "toc_visible": true,
      "authorship_tag": "ABX9TyO82wYLzx+Gu/4grWnMGYCV",
      "include_colab_link": true
    },
    "kernelspec": {
      "name": "python3",
      "display_name": "Python 3"
    },
    "language_info": {
      "name": "python"
    }
  },
  "cells": [
    {
      "cell_type": "markdown",
      "metadata": {
        "id": "view-in-github",
        "colab_type": "text"
      },
      "source": [
        "<a href=\"https://colab.research.google.com/github/jiwoo1004/202202782-1/blob/main/202202782_%EC%9D%B4%EC%A7%80%EC%9A%B0.ipynb\" target=\"_parent\"><img src=\"https://colab.research.google.com/assets/colab-badge.svg\" alt=\"Open In Colab\"/></a>"
      ]
    },
    {
      "cell_type": "code",
      "source": [
        "#202202782 이지우\n",
        "a=1\n",
        "b=2\n",
        "print(a+b)"
      ],
      "metadata": {
        "colab": {
          "base_uri": "https://localhost:8080/"
        },
        "id": "5RHACIvzwfVU",
        "outputId": "c0a2159f-9d97-4c5c-a957-97e6448102ba"
      },
      "execution_count": null,
      "outputs": [
        {
          "output_type": "stream",
          "name": "stdout",
          "text": [
            "3\n"
          ]
        }
      ]
    },
    {
      "cell_type": "code",
      "source": [
        "#202202782 이지우\n",
        "a = int(input(\"\"))\n",
        "\n",
        "if a<=30 :\n",
        "  for b in range(1,a+1):\n",
        "    for c in range(1, b+1):\n",
        "        print(c, end=\"\")\n",
        "    print()\n",
        "else :\n",
        "  print(\"너무 많습니다.\")"
      ],
      "metadata": {
        "colab": {
          "base_uri": "https://localhost:8080/"
        },
        "id": "Oayfwf0owayN",
        "outputId": "9891b573-26c1-4736-c611-058ad00dd46b"
      },
      "execution_count": null,
      "outputs": [
        {
          "output_type": "stream",
          "name": "stdout",
          "text": [
            "202202782\n",
            "너무 많습니다.\n"
          ]
        }
      ]
    },
    {
      "cell_type": "code",
      "source": [
        "#202202782 이지우\n",
        "a = input(\"\")\n",
        "\n",
        "if int(a.isdecimal())==1:\n",
        "  if int(a)<=30 :\n",
        "    for b in range(1,int(a)+1):\n",
        "      for c in range(1, b+1):\n",
        "          print(c, end=\"\")\n",
        "      print()\n",
        "  else :\n",
        "    print(\"너무 많습니다.\")\n",
        "else :\n",
        "  print(\"정수로 입력해주세요.\")"
      ],
      "metadata": {
        "colab": {
          "base_uri": "https://localhost:8080/"
        },
        "id": "kqJb4WVJ4IVU",
        "outputId": "ae8f5fa5-3554-48bf-b84f-f0461d7a6390"
      },
      "execution_count": null,
      "outputs": [
        {
          "output_type": "stream",
          "name": "stdout",
          "text": [
            "3.141592\n",
            "정수로 입력해주세요.\n"
          ]
        }
      ]
    },
    {
      "cell_type": "code",
      "source": [],
      "metadata": {
        "id": "WQksRoIM82QN"
      },
      "execution_count": null,
      "outputs": []
    }
  ]
}