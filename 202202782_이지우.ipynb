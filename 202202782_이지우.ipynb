{
  "nbformat": 4,
  "nbformat_minor": 0,
  "metadata": {
    "colab": {
      "provenance": [],
      "toc_visible": true,
      "authorship_tag": "ABX9TyNYwhDH9W+D+EWWwhT24sVa",
      "include_colab_link": true
    },
    "kernelspec": {
      "name": "python3",
      "display_name": "Python 3"
    },
    "language_info": {
      "name": "python"
    }
  },
  "cells": [
    {
      "cell_type": "markdown",
      "metadata": {
        "id": "view-in-github",
        "colab_type": "text"
      },
      "source": [
        "<a href=\"https://colab.research.google.com/github/jiwoo1004/202202782-1/blob/main/202202782_%EC%9D%B4%EC%A7%80%EC%9A%B0.ipynb\" target=\"_parent\"><img src=\"https://colab.research.google.com/assets/colab-badge.svg\" alt=\"Open In Colab\"/></a>"
      ]
    },
    {
      "cell_type": "code",
      "execution_count": null,
      "metadata": {
        "id": "iC9mHteyu3OL"
      },
      "outputs": [],
      "source": [
        "202202782 이지우"
      ]
    },
    {
      "cell_type": "code",
      "source": [
        "a=1\n",
        "b=2\n",
        "print(a+b)"
      ],
      "metadata": {
        "colab": {
          "base_uri": "https://localhost:8080/"
        },
        "id": "5RHACIvzwfVU",
        "outputId": "c0a2159f-9d97-4c5c-a957-97e6448102ba"
      },
      "execution_count": null,
      "outputs": [
        {
          "output_type": "stream",
          "name": "stdout",
          "text": [
            "3\n"
          ]
        }
      ]
    },
    {
      "cell_type": "code",
      "source": [
        "n = int(input(\"\"))\n",
        "\n",
        "if n<30 :\n",
        "  for i in range(1,n+1):\n",
        "    for j in range(1, i+1):\n",
        "        print(j, end=\"\")\n",
        "    print()\n",
        "else :\n",
        "  print(\"너무 많습니다.\")"
      ],
      "metadata": {
        "colab": {
          "base_uri": "https://localhost:8080/"
        },
        "id": "Oayfwf0owayN",
        "outputId": "593c0130-4a27-4a70-fbd7-669490194eff"
      },
      "execution_count": 77,
      "outputs": [
        {
          "output_type": "stream",
          "name": "stdout",
          "text": [
            "6\n",
            "1\n",
            "12\n",
            "123\n",
            "1234\n",
            "12345\n",
            "123456\n"
          ]
        }
      ]
    },
    {
      "cell_type": "code",
      "source": [
        "n = input(\"\")\n",
        "\n",
        "if int(n.isdecimal())==1:\n",
        "  if int(n)<30 :\n",
        "    for i in range(1,int(n)+1):\n",
        "      for j in range(1, i+1):\n",
        "          print(j, end=\"\")\n",
        "      print()\n",
        "  else :\n",
        "    print(\"너무 많습니다.\")\n",
        "else :\n",
        "  print(\"정수로 입력해주세요.\")"
      ],
      "metadata": {
        "colab": {
          "base_uri": "https://localhost:8080/"
        },
        "id": "kqJb4WVJ4IVU",
        "outputId": "094345b1-aa7e-48f8-c215-0a26394cc1fc"
      },
      "execution_count": 78,
      "outputs": [
        {
          "output_type": "stream",
          "name": "stdout",
          "text": [
            "6.7\n",
            "정수로 입력해주세요.\n"
          ]
        }
      ]
    },
    {
      "cell_type": "code",
      "source": [],
      "metadata": {
        "id": "WQksRoIM82QN"
      },
      "execution_count": null,
      "outputs": []
    }
  ]
}